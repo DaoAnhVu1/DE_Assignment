{
 "cells": [
  {
   "cell_type": "code",
   "execution_count": 1,
   "id": "e1c5cee2-6eaa-4c64-bf8e-305a9bdf7a71",
   "metadata": {},
   "outputs": [
    {
     "name": "stdout",
     "output_type": "stream",
     "text": [
      "root\n",
      " |-- studentCode: integer (nullable = true)\n",
      " |-- activity: string (nullable = true)\n",
      " |-- numberOfFiles: integer (nullable = true)\n",
      " |-- timestamp: string (nullable = true)\n",
      "\n",
      "+-----------+--------+-------------+---------+\n",
      "|studentCode|activity|numberOfFiles|timestamp|\n",
      "+-----------+--------+-------------+---------+\n",
      "|          4|   write|            7|6/10/2024|\n",
      "|         33|    read|            5|6/12/2024|\n",
      "|         33| execute|            1|6/13/2024|\n",
      "|          6|   write|            6|6/15/2024|\n",
      "|         24| execute|            8|6/12/2024|\n",
      "|         22|   write|            2|6/12/2024|\n",
      "|         31|   write|            9|6/13/2024|\n",
      "|          8|   write|            4|6/13/2024|\n",
      "|         21|    read|            5|6/12/2024|\n",
      "|         26| execute|            2|6/10/2024|\n",
      "|         24|    read|           10|6/12/2024|\n",
      "|         10|    read|            6|6/15/2024|\n",
      "|         20|   write|            7|6/14/2024|\n",
      "|         14| execute|            7|6/11/2024|\n",
      "|          5| execute|            1|6/10/2024|\n",
      "|          3|    read|            9|6/13/2024|\n",
      "|         11|   write|            7|6/11/2024|\n",
      "|          7|    read|            1|6/15/2024|\n",
      "|         22|   write|            9|6/14/2024|\n",
      "|          4| execute|            8|6/13/2024|\n",
      "+-----------+--------+-------------+---------+\n",
      "only showing top 20 rows\n",
      "\n"
     ]
    }
   ],
   "source": [
    "from pyspark.sql import SparkSession\n",
    "from pyspark.sql import Row\n",
    "\n",
    "# Initialize Spark session\n",
    "spark = SparkSession.builder \\\n",
    "    .appName(\"HDFS Example\") \\\n",
    "    .getOrCreate()\n",
    "\n",
    "hdfs_path = \"hdfs://namenode:9000/raw_zone/fact/activity\"\n",
    "\n",
    "# Read Parquet files from HDFS path into a DataFrame\n",
    "df = spark.read.parquet(hdfs_path)\n",
    "\n",
    "# Show the schema of the DataFrame\n",
    "df.printSchema()\n",
    "\n",
    "# Show the first few rows of the DataFrame\n",
    "df.show()"
   ]
  },
  {
   "cell_type": "code",
   "execution_count": 2,
   "id": "283d1238-68be-4aa5-b2d1-5ec47ac6a686",
   "metadata": {},
   "outputs": [
    {
     "name": "stdout",
     "output_type": "stream",
     "text": [
      "Number of rows: 400\n"
     ]
    }
   ],
   "source": [
    "row_count = df.count()\n",
    "\n",
    "# Print the row count\n",
    "print(\"Number of rows:\", row_count)"
   ]
  },
  {
   "cell_type": "code",
   "execution_count": null,
   "id": "f6dbc5d2-e387-47f3-bcd3-82233f9958d9",
   "metadata": {},
   "outputs": [],
   "source": []
  }
 ],
 "metadata": {
  "kernelspec": {
   "display_name": "Python 3 (ipykernel)",
   "language": "python",
   "name": "python3"
  },
  "language_info": {
   "codemirror_mode": {
    "name": "ipython",
    "version": 3
   },
   "file_extension": ".py",
   "mimetype": "text/x-python",
   "name": "python",
   "nbconvert_exporter": "python",
   "pygments_lexer": "ipython3",
   "version": "3.11.6"
  }
 },
 "nbformat": 4,
 "nbformat_minor": 5
}
